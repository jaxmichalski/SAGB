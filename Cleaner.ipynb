{
 "cells": [
  {
   "cell_type": "code",
   "execution_count": 27,
   "metadata": {
    "collapsed": true
   },
   "outputs": [],
   "source": [
    "import pandas as pd\n",
    "import numpy as np\n",
    "import zipfile\n",
    "import matplotlib.pyplot as plt\n",
    "import seaborn as sns\n",
    "from pathlib import Path"
   ]
  },
  {
   "cell_type": "code",
   "execution_count": 28,
   "metadata": {
    "collapsed": false
   },
   "outputs": [
    {
     "data": {
      "text/plain": [
       "['pitch_table.1112.csv',\n",
       " 'pitch_table.09.csv',\n",
       " 'pitch_table.13.csv',\n",
       " 'pitch_table.10.csv',\n",
       " 'pitch_table.May08.July08.csv',\n",
       " 'pitch_table.14.csv',\n",
       " 'pitch_table.Aug08.Dec08.csv',\n",
       " 'pitch_table.Jan08.April08.csv']"
      ]
     },
     "execution_count": 28,
     "metadata": {},
     "output_type": "execute_result"
    }
   ],
   "source": [
    "data_dir = Path('Pitch_Tables')\n",
    "file_names = [file.name for file in data_dir.glob('*') if 'csv' in file.name and 'table' in file.name and 'lock' not in file.name] \n",
    "file_names\n",
    "\n"
   ]
  },
  {
   "cell_type": "code",
   "execution_count": 42,
   "metadata": {
    "collapsed": false
   },
   "outputs": [
    {
     "name": "stderr",
     "output_type": "stream",
     "text": [
      "/Users/jaxmichalski/miniconda3/envs/data100/lib/python3.6/site-packages/IPython/core/interactiveshell.py:2728: DtypeWarning: Columns (7,57,58,63) have mixed types. Specify dtype option on import or set low_memory=False.\n",
      "  interactivity=interactivity, compiler=compiler, result=result)\n"
     ]
    }
   ],
   "source": [
    "sample_file = 'Pitch_Tables/' + file_names[1]\n",
    "sample_dat = pd.read_csv(sample_file)"
   ]
  },
  {
   "cell_type": "code",
   "execution_count": 43,
   "metadata": {
    "collapsed": false
   },
   "outputs": [
    {
     "data": {
      "text/html": [
       "<div>\n",
       "<style scoped>\n",
       "    .dataframe tbody tr th:only-of-type {\n",
       "        vertical-align: middle;\n",
       "    }\n",
       "\n",
       "    .dataframe tbody tr th {\n",
       "        vertical-align: top;\n",
       "    }\n",
       "\n",
       "    .dataframe thead th {\n",
       "        text-align: right;\n",
       "    }\n",
       "</style>\n",
       "<table border=\"1\" class=\"dataframe\">\n",
       "  <thead>\n",
       "    <tr style=\"text-align: right;\">\n",
       "      <th></th>\n",
       "      <th>retro_game_id</th>\n",
       "      <th>year</th>\n",
       "      <th>st_fl</th>\n",
       "      <th>regseason_fl</th>\n",
       "      <th>playoffs_fl</th>\n",
       "      <th>game_type</th>\n",
       "      <th>game_type_des</th>\n",
       "      <th>game_id</th>\n",
       "      <th>home_team_id</th>\n",
       "      <th>home_team_lg</th>\n",
       "      <th>...</th>\n",
       "      <th>break_y</th>\n",
       "      <th>break_angle</th>\n",
       "      <th>break_length</th>\n",
       "      <th>pitch_type</th>\n",
       "      <th>pitch_type_seq</th>\n",
       "      <th>type_conf</th>\n",
       "      <th>zone</th>\n",
       "      <th>spin_dir</th>\n",
       "      <th>spin_rate</th>\n",
       "      <th>sv_id</th>\n",
       "    </tr>\n",
       "  </thead>\n",
       "  <tbody>\n",
       "    <tr>\n",
       "      <th>0</th>\n",
       "      <td>COL200902250</td>\n",
       "      <td>2009</td>\n",
       "      <td>T</td>\n",
       "      <td>F</td>\n",
       "      <td>F</td>\n",
       "      <td>S</td>\n",
       "      <td>Spring Training</td>\n",
       "      <td>unknown</td>\n",
       "      <td>col</td>\n",
       "      <td>NL</td>\n",
       "      <td>...</td>\n",
       "      <td>NaN</td>\n",
       "      <td>NaN</td>\n",
       "      <td>NaN</td>\n",
       "      <td>NaN</td>\n",
       "      <td>NaN</td>\n",
       "      <td>NaN</td>\n",
       "      <td>NaN</td>\n",
       "      <td>NaN</td>\n",
       "      <td>NaN</td>\n",
       "      <td>NaN</td>\n",
       "    </tr>\n",
       "    <tr>\n",
       "      <th>1</th>\n",
       "      <td>COL200902250</td>\n",
       "      <td>2009</td>\n",
       "      <td>T</td>\n",
       "      <td>F</td>\n",
       "      <td>F</td>\n",
       "      <td>S</td>\n",
       "      <td>Spring Training</td>\n",
       "      <td>unknown</td>\n",
       "      <td>col</td>\n",
       "      <td>NL</td>\n",
       "      <td>...</td>\n",
       "      <td>NaN</td>\n",
       "      <td>NaN</td>\n",
       "      <td>NaN</td>\n",
       "      <td>NaN</td>\n",
       "      <td>NaN</td>\n",
       "      <td>NaN</td>\n",
       "      <td>NaN</td>\n",
       "      <td>NaN</td>\n",
       "      <td>NaN</td>\n",
       "      <td>NaN</td>\n",
       "    </tr>\n",
       "    <tr>\n",
       "      <th>2</th>\n",
       "      <td>COL200902250</td>\n",
       "      <td>2009</td>\n",
       "      <td>T</td>\n",
       "      <td>F</td>\n",
       "      <td>F</td>\n",
       "      <td>S</td>\n",
       "      <td>Spring Training</td>\n",
       "      <td>unknown</td>\n",
       "      <td>col</td>\n",
       "      <td>NL</td>\n",
       "      <td>...</td>\n",
       "      <td>NaN</td>\n",
       "      <td>NaN</td>\n",
       "      <td>NaN</td>\n",
       "      <td>NaN</td>\n",
       "      <td>NaN</td>\n",
       "      <td>NaN</td>\n",
       "      <td>NaN</td>\n",
       "      <td>NaN</td>\n",
       "      <td>NaN</td>\n",
       "      <td>NaN</td>\n",
       "    </tr>\n",
       "    <tr>\n",
       "      <th>3</th>\n",
       "      <td>COL200902250</td>\n",
       "      <td>2009</td>\n",
       "      <td>T</td>\n",
       "      <td>F</td>\n",
       "      <td>F</td>\n",
       "      <td>S</td>\n",
       "      <td>Spring Training</td>\n",
       "      <td>unknown</td>\n",
       "      <td>col</td>\n",
       "      <td>NL</td>\n",
       "      <td>...</td>\n",
       "      <td>NaN</td>\n",
       "      <td>NaN</td>\n",
       "      <td>NaN</td>\n",
       "      <td>NaN</td>\n",
       "      <td>NaN</td>\n",
       "      <td>NaN</td>\n",
       "      <td>NaN</td>\n",
       "      <td>NaN</td>\n",
       "      <td>NaN</td>\n",
       "      <td>NaN</td>\n",
       "    </tr>\n",
       "    <tr>\n",
       "      <th>4</th>\n",
       "      <td>COL200902250</td>\n",
       "      <td>2009</td>\n",
       "      <td>T</td>\n",
       "      <td>F</td>\n",
       "      <td>F</td>\n",
       "      <td>S</td>\n",
       "      <td>Spring Training</td>\n",
       "      <td>unknown</td>\n",
       "      <td>col</td>\n",
       "      <td>NL</td>\n",
       "      <td>...</td>\n",
       "      <td>NaN</td>\n",
       "      <td>NaN</td>\n",
       "      <td>NaN</td>\n",
       "      <td>NaN</td>\n",
       "      <td>NaN</td>\n",
       "      <td>NaN</td>\n",
       "      <td>NaN</td>\n",
       "      <td>NaN</td>\n",
       "      <td>NaN</td>\n",
       "      <td>NaN</td>\n",
       "    </tr>\n",
       "  </tbody>\n",
       "</table>\n",
       "<p>5 rows × 64 columns</p>\n",
       "</div>"
      ],
      "text/plain": [
       "  retro_game_id  year st_fl regseason_fl playoffs_fl game_type  \\\n",
       "0  COL200902250  2009     T            F           F         S   \n",
       "1  COL200902250  2009     T            F           F         S   \n",
       "2  COL200902250  2009     T            F           F         S   \n",
       "3  COL200902250  2009     T            F           F         S   \n",
       "4  COL200902250  2009     T            F           F         S   \n",
       "\n",
       "     game_type_des  game_id home_team_id home_team_lg  ...   break_y  \\\n",
       "0  Spring Training  unknown          col           NL  ...       NaN   \n",
       "1  Spring Training  unknown          col           NL  ...       NaN   \n",
       "2  Spring Training  unknown          col           NL  ...       NaN   \n",
       "3  Spring Training  unknown          col           NL  ...       NaN   \n",
       "4  Spring Training  unknown          col           NL  ...       NaN   \n",
       "\n",
       "  break_angle break_length  pitch_type  pitch_type_seq  type_conf zone  \\\n",
       "0         NaN          NaN         NaN             NaN        NaN  NaN   \n",
       "1         NaN          NaN         NaN             NaN        NaN  NaN   \n",
       "2         NaN          NaN         NaN             NaN        NaN  NaN   \n",
       "3         NaN          NaN         NaN             NaN        NaN  NaN   \n",
       "4         NaN          NaN         NaN             NaN        NaN  NaN   \n",
       "\n",
       "  spin_dir  spin_rate  sv_id  \n",
       "0      NaN        NaN    NaN  \n",
       "1      NaN        NaN    NaN  \n",
       "2      NaN        NaN    NaN  \n",
       "3      NaN        NaN    NaN  \n",
       "4      NaN        NaN    NaN  \n",
       "\n",
       "[5 rows x 64 columns]"
      ]
     },
     "execution_count": 43,
     "metadata": {},
     "output_type": "execute_result"
    }
   ],
   "source": [
    "sample_dat.head()"
   ]
  },
  {
   "cell_type": "code",
   "execution_count": 44,
   "metadata": {
    "collapsed": false
   },
   "outputs": [
    {
     "data": {
      "text/html": [
       "<div>\n",
       "<style scoped>\n",
       "    .dataframe tbody tr th:only-of-type {\n",
       "        vertical-align: middle;\n",
       "    }\n",
       "\n",
       "    .dataframe tbody tr th {\n",
       "        vertical-align: top;\n",
       "    }\n",
       "\n",
       "    .dataframe thead th {\n",
       "        text-align: right;\n",
       "    }\n",
       "</style>\n",
       "<table border=\"1\" class=\"dataframe\">\n",
       "  <thead>\n",
       "    <tr style=\"text-align: right;\">\n",
       "      <th></th>\n",
       "      <th>retro_game_id</th>\n",
       "      <th>year</th>\n",
       "      <th>st_fl</th>\n",
       "      <th>regseason_fl</th>\n",
       "      <th>playoffs_fl</th>\n",
       "      <th>game_type</th>\n",
       "      <th>game_type_des</th>\n",
       "      <th>game_id</th>\n",
       "      <th>home_team_id</th>\n",
       "      <th>home_team_lg</th>\n",
       "      <th>...</th>\n",
       "      <th>break_y</th>\n",
       "      <th>break_angle</th>\n",
       "      <th>break_length</th>\n",
       "      <th>pitch_type</th>\n",
       "      <th>pitch_type_seq</th>\n",
       "      <th>type_conf</th>\n",
       "      <th>zone</th>\n",
       "      <th>spin_dir</th>\n",
       "      <th>spin_rate</th>\n",
       "      <th>sv_id</th>\n",
       "    </tr>\n",
       "  </thead>\n",
       "  <tbody>\n",
       "    <tr>\n",
       "      <th>85355</th>\n",
       "      <td>PHI200904050</td>\n",
       "      <td>2009</td>\n",
       "      <td>F</td>\n",
       "      <td>T</td>\n",
       "      <td>F</td>\n",
       "      <td>R</td>\n",
       "      <td>Regular Season</td>\n",
       "      <td>244193</td>\n",
       "      <td>phi</td>\n",
       "      <td>NL</td>\n",
       "      <td>...</td>\n",
       "      <td>23.8</td>\n",
       "      <td>15.5</td>\n",
       "      <td>3.4</td>\n",
       "      <td>FF</td>\n",
       "      <td>FF</td>\n",
       "      <td>0.905</td>\n",
       "      <td>11.0</td>\n",
       "      <td>192.579</td>\n",
       "      <td>2163.648</td>\n",
       "      <td>090405_201041</td>\n",
       "    </tr>\n",
       "    <tr>\n",
       "      <th>85356</th>\n",
       "      <td>PHI200904050</td>\n",
       "      <td>2009</td>\n",
       "      <td>F</td>\n",
       "      <td>T</td>\n",
       "      <td>F</td>\n",
       "      <td>R</td>\n",
       "      <td>Regular Season</td>\n",
       "      <td>244193</td>\n",
       "      <td>phi</td>\n",
       "      <td>NL</td>\n",
       "      <td>...</td>\n",
       "      <td>23.7</td>\n",
       "      <td>11.8</td>\n",
       "      <td>3.7</td>\n",
       "      <td>FF</td>\n",
       "      <td>FF|FF</td>\n",
       "      <td>0.905</td>\n",
       "      <td>11.0</td>\n",
       "      <td>192.330</td>\n",
       "      <td>2014.262</td>\n",
       "      <td>090405_201052</td>\n",
       "    </tr>\n",
       "    <tr>\n",
       "      <th>85357</th>\n",
       "      <td>PHI200904050</td>\n",
       "      <td>2009</td>\n",
       "      <td>F</td>\n",
       "      <td>T</td>\n",
       "      <td>F</td>\n",
       "      <td>R</td>\n",
       "      <td>Regular Season</td>\n",
       "      <td>244193</td>\n",
       "      <td>phi</td>\n",
       "      <td>NL</td>\n",
       "      <td>...</td>\n",
       "      <td>23.8</td>\n",
       "      <td>29.1</td>\n",
       "      <td>6.9</td>\n",
       "      <td>CH</td>\n",
       "      <td>FF|FF|CH</td>\n",
       "      <td>0.901</td>\n",
       "      <td>4.0</td>\n",
       "      <td>234.283</td>\n",
       "      <td>2025.121</td>\n",
       "      <td>090405_201104</td>\n",
       "    </tr>\n",
       "    <tr>\n",
       "      <th>85358</th>\n",
       "      <td>PHI200904050</td>\n",
       "      <td>2009</td>\n",
       "      <td>F</td>\n",
       "      <td>T</td>\n",
       "      <td>F</td>\n",
       "      <td>R</td>\n",
       "      <td>Regular Season</td>\n",
       "      <td>244193</td>\n",
       "      <td>phi</td>\n",
       "      <td>NL</td>\n",
       "      <td>...</td>\n",
       "      <td>23.8</td>\n",
       "      <td>14.8</td>\n",
       "      <td>3.5</td>\n",
       "      <td>FF</td>\n",
       "      <td>FF</td>\n",
       "      <td>0.905</td>\n",
       "      <td>7.0</td>\n",
       "      <td>194.810</td>\n",
       "      <td>2124.747</td>\n",
       "      <td>090405_201142</td>\n",
       "    </tr>\n",
       "    <tr>\n",
       "      <th>85359</th>\n",
       "      <td>PHI200904050</td>\n",
       "      <td>2009</td>\n",
       "      <td>F</td>\n",
       "      <td>T</td>\n",
       "      <td>F</td>\n",
       "      <td>R</td>\n",
       "      <td>Regular Season</td>\n",
       "      <td>244193</td>\n",
       "      <td>phi</td>\n",
       "      <td>NL</td>\n",
       "      <td>...</td>\n",
       "      <td>23.8</td>\n",
       "      <td>21.2</td>\n",
       "      <td>3.9</td>\n",
       "      <td>FF</td>\n",
       "      <td>FF</td>\n",
       "      <td>0.903</td>\n",
       "      <td>13.0</td>\n",
       "      <td>200.922</td>\n",
       "      <td>2045.904</td>\n",
       "      <td>090405_201220</td>\n",
       "    </tr>\n",
       "  </tbody>\n",
       "</table>\n",
       "<p>5 rows × 64 columns</p>\n",
       "</div>"
      ],
      "text/plain": [
       "      retro_game_id  year st_fl regseason_fl playoffs_fl game_type  \\\n",
       "85355  PHI200904050  2009     F            T           F         R   \n",
       "85356  PHI200904050  2009     F            T           F         R   \n",
       "85357  PHI200904050  2009     F            T           F         R   \n",
       "85358  PHI200904050  2009     F            T           F         R   \n",
       "85359  PHI200904050  2009     F            T           F         R   \n",
       "\n",
       "        game_type_des game_id home_team_id home_team_lg      ...        \\\n",
       "85355  Regular Season  244193          phi           NL      ...         \n",
       "85356  Regular Season  244193          phi           NL      ...         \n",
       "85357  Regular Season  244193          phi           NL      ...         \n",
       "85358  Regular Season  244193          phi           NL      ...         \n",
       "85359  Regular Season  244193          phi           NL      ...         \n",
       "\n",
       "      break_y break_angle break_length  pitch_type  pitch_type_seq  type_conf  \\\n",
       "85355    23.8        15.5          3.4          FF              FF      0.905   \n",
       "85356    23.7        11.8          3.7          FF           FF|FF      0.905   \n",
       "85357    23.8        29.1          6.9          CH        FF|FF|CH      0.901   \n",
       "85358    23.8        14.8          3.5          FF              FF      0.905   \n",
       "85359    23.8        21.2          3.9          FF              FF      0.903   \n",
       "\n",
       "       zone spin_dir  spin_rate          sv_id  \n",
       "85355  11.0  192.579   2163.648  090405_201041  \n",
       "85356  11.0  192.330   2014.262  090405_201052  \n",
       "85357   4.0  234.283   2025.121  090405_201104  \n",
       "85358   7.0  194.810   2124.747  090405_201142  \n",
       "85359  13.0  200.922   2045.904  090405_201220  \n",
       "\n",
       "[5 rows x 64 columns]"
      ]
     },
     "execution_count": 44,
     "metadata": {},
     "output_type": "execute_result"
    }
   ],
   "source": [
    "sample_dat = sample_dat[(sample_dat['game_type_des'] != 'Spring Training')]\n",
    "sample_dat = sample_dat[sample_dat['game_type_des'] != 'Unknown']\n",
    "sample_dat.head()"
   ]
  },
  {
   "cell_type": "code",
   "execution_count": 50,
   "metadata": {
    "collapsed": false
   },
   "outputs": [
    {
     "data": {
      "text/plain": [
       "Index(['pit_id', 'pit_hand_cd', 'bat_hand_cd', 'pitch_seq', 'pitch_res',\n",
       "       'pitch_des', 'x', 'y', 'start_speed', 'end_speed', 'sz_top', 'sz_bot',\n",
       "       'pfx_x', 'pfx_z', 'px', 'pz', 'x0', 'y0', 'z0', 'vx0', 'vy0', 'vz0',\n",
       "       'ax', 'ay', 'az', 'break_y', 'break_angle', 'break_length',\n",
       "       'pitch_type', 'pitch_type_seq', 'zone', 'spin_dir', 'spin_rate'],\n",
       "      dtype='object')"
      ]
     },
     "execution_count": 50,
     "metadata": {},
     "output_type": "execute_result"
    }
   ],
   "source": [
    "sample_dat.columns\n",
    "smaller_dat = sample_dat.drop(columns = ['year', 'st_fl', 'regseason_fl', 'playoffs_fl',\n",
    "       'game_type', 'game_type_des', 'game_id', 'home_team_id', 'home_team_lg',\n",
    "       'away_team_id', 'away_team_lg', 'interleague_fl', 'inning',\n",
    "       'bat_home_id', 'park_id', 'park_name', 'park_lock', 'bat_id', 'pa_ball_ct', 'pa_strike_ct', 'outs_ct',\n",
    "        'pa_terminal_fl', 'start_bases_cd',\n",
    "       'end_bases_cd', 'event_outs_ct', 'ab_number', 'pa_event_cd', 'type_conf', 'retro_game_id', 'sv_id', 'pitch_id'])\n",
    "smaller_dat.columns"
   ]
  },
  {
   "cell_type": "code",
   "execution_count": 51,
   "metadata": {
    "collapsed": false
   },
   "outputs": [
    {
     "data": {
      "text/html": [
       "<div>\n",
       "<style scoped>\n",
       "    .dataframe tbody tr th:only-of-type {\n",
       "        vertical-align: middle;\n",
       "    }\n",
       "\n",
       "    .dataframe tbody tr th {\n",
       "        vertical-align: top;\n",
       "    }\n",
       "\n",
       "    .dataframe thead th {\n",
       "        text-align: right;\n",
       "    }\n",
       "</style>\n",
       "<table border=\"1\" class=\"dataframe\">\n",
       "  <thead>\n",
       "    <tr style=\"text-align: right;\">\n",
       "      <th></th>\n",
       "      <th>pit_id</th>\n",
       "      <th>pit_hand_cd</th>\n",
       "      <th>bat_hand_cd</th>\n",
       "      <th>pitch_seq</th>\n",
       "      <th>pitch_res</th>\n",
       "      <th>pitch_des</th>\n",
       "      <th>x</th>\n",
       "      <th>y</th>\n",
       "      <th>start_speed</th>\n",
       "      <th>end_speed</th>\n",
       "      <th>...</th>\n",
       "      <th>ay</th>\n",
       "      <th>az</th>\n",
       "      <th>break_y</th>\n",
       "      <th>break_angle</th>\n",
       "      <th>break_length</th>\n",
       "      <th>pitch_type</th>\n",
       "      <th>pitch_type_seq</th>\n",
       "      <th>zone</th>\n",
       "      <th>spin_dir</th>\n",
       "      <th>spin_rate</th>\n",
       "    </tr>\n",
       "  </thead>\n",
       "  <tbody>\n",
       "    <tr>\n",
       "      <th>85355</th>\n",
       "      <td>408206</td>\n",
       "      <td>R</td>\n",
       "      <td>L</td>\n",
       "      <td>B</td>\n",
       "      <td>B</td>\n",
       "      <td>Ball</td>\n",
       "      <td>160.52</td>\n",
       "      <td>132.11</td>\n",
       "      <td>90.6</td>\n",
       "      <td>83.4</td>\n",
       "      <td>...</td>\n",
       "      <td>28.424</td>\n",
       "      <td>-12.866</td>\n",
       "      <td>23.8</td>\n",
       "      <td>15.5</td>\n",
       "      <td>3.4</td>\n",
       "      <td>FF</td>\n",
       "      <td>FF</td>\n",
       "      <td>11.0</td>\n",
       "      <td>192.579</td>\n",
       "      <td>2163.648</td>\n",
       "    </tr>\n",
       "    <tr>\n",
       "      <th>85356</th>\n",
       "      <td>408206</td>\n",
       "      <td>R</td>\n",
       "      <td>L</td>\n",
       "      <td>BC</td>\n",
       "      <td>C</td>\n",
       "      <td>Called Strike</td>\n",
       "      <td>136.48</td>\n",
       "      <td>123.47</td>\n",
       "      <td>90.4</td>\n",
       "      <td>82.6</td>\n",
       "      <td>...</td>\n",
       "      <td>30.841</td>\n",
       "      <td>-14.211</td>\n",
       "      <td>23.7</td>\n",
       "      <td>11.8</td>\n",
       "      <td>3.7</td>\n",
       "      <td>FF</td>\n",
       "      <td>FF|FF</td>\n",
       "      <td>11.0</td>\n",
       "      <td>192.330</td>\n",
       "      <td>2014.262</td>\n",
       "    </tr>\n",
       "    <tr>\n",
       "      <th>85357</th>\n",
       "      <td>408206</td>\n",
       "      <td>R</td>\n",
       "      <td>L</td>\n",
       "      <td>BCX</td>\n",
       "      <td>X</td>\n",
       "      <td>In play, out(s)</td>\n",
       "      <td>121.89</td>\n",
       "      <td>131.24</td>\n",
       "      <td>84.5</td>\n",
       "      <td>77.4</td>\n",
       "      <td>...</td>\n",
       "      <td>26.762</td>\n",
       "      <td>-22.090</td>\n",
       "      <td>23.8</td>\n",
       "      <td>29.1</td>\n",
       "      <td>6.9</td>\n",
       "      <td>CH</td>\n",
       "      <td>FF|FF|CH</td>\n",
       "      <td>4.0</td>\n",
       "      <td>234.283</td>\n",
       "      <td>2025.121</td>\n",
       "    </tr>\n",
       "    <tr>\n",
       "      <th>85358</th>\n",
       "      <td>408206</td>\n",
       "      <td>R</td>\n",
       "      <td>R</td>\n",
       "      <td>X</td>\n",
       "      <td>X</td>\n",
       "      <td>In play, out(s)</td>\n",
       "      <td>112.45</td>\n",
       "      <td>151.97</td>\n",
       "      <td>91.1</td>\n",
       "      <td>83.8</td>\n",
       "      <td>...</td>\n",
       "      <td>29.558</td>\n",
       "      <td>-13.296</td>\n",
       "      <td>23.8</td>\n",
       "      <td>14.8</td>\n",
       "      <td>3.5</td>\n",
       "      <td>FF</td>\n",
       "      <td>FF</td>\n",
       "      <td>7.0</td>\n",
       "      <td>194.810</td>\n",
       "      <td>2124.747</td>\n",
       "    </tr>\n",
       "    <tr>\n",
       "      <th>85359</th>\n",
       "      <td>408206</td>\n",
       "      <td>R</td>\n",
       "      <td>L</td>\n",
       "      <td>B</td>\n",
       "      <td>B</td>\n",
       "      <td>Ball</td>\n",
       "      <td>153.65</td>\n",
       "      <td>145.06</td>\n",
       "      <td>91.8</td>\n",
       "      <td>84.1</td>\n",
       "      <td>...</td>\n",
       "      <td>31.265</td>\n",
       "      <td>-14.464</td>\n",
       "      <td>23.8</td>\n",
       "      <td>21.2</td>\n",
       "      <td>3.9</td>\n",
       "      <td>FF</td>\n",
       "      <td>FF</td>\n",
       "      <td>13.0</td>\n",
       "      <td>200.922</td>\n",
       "      <td>2045.904</td>\n",
       "    </tr>\n",
       "  </tbody>\n",
       "</table>\n",
       "<p>5 rows × 33 columns</p>\n",
       "</div>"
      ],
      "text/plain": [
       "       pit_id pit_hand_cd bat_hand_cd pitch_seq pitch_res        pitch_des  \\\n",
       "85355  408206           R           L         B         B             Ball   \n",
       "85356  408206           R           L        BC         C    Called Strike   \n",
       "85357  408206           R           L       BCX         X  In play, out(s)   \n",
       "85358  408206           R           R         X         X  In play, out(s)   \n",
       "85359  408206           R           L         B         B             Ball   \n",
       "\n",
       "            x       y  start_speed  end_speed    ...          ay      az  \\\n",
       "85355  160.52  132.11         90.6       83.4    ...      28.424 -12.866   \n",
       "85356  136.48  123.47         90.4       82.6    ...      30.841 -14.211   \n",
       "85357  121.89  131.24         84.5       77.4    ...      26.762 -22.090   \n",
       "85358  112.45  151.97         91.1       83.8    ...      29.558 -13.296   \n",
       "85359  153.65  145.06         91.8       84.1    ...      31.265 -14.464   \n",
       "\n",
       "       break_y  break_angle  break_length  pitch_type  pitch_type_seq  zone  \\\n",
       "85355     23.8         15.5           3.4          FF              FF  11.0   \n",
       "85356     23.7         11.8           3.7          FF           FF|FF  11.0   \n",
       "85357     23.8         29.1           6.9          CH        FF|FF|CH   4.0   \n",
       "85358     23.8         14.8           3.5          FF              FF   7.0   \n",
       "85359     23.8         21.2           3.9          FF              FF  13.0   \n",
       "\n",
       "       spin_dir  spin_rate  \n",
       "85355   192.579   2163.648  \n",
       "85356   192.330   2014.262  \n",
       "85357   234.283   2025.121  \n",
       "85358   194.810   2124.747  \n",
       "85359   200.922   2045.904  \n",
       "\n",
       "[5 rows x 33 columns]"
      ]
     },
     "execution_count": 51,
     "metadata": {},
     "output_type": "execute_result"
    }
   ],
   "source": [
    "smaller_dat.head()"
   ]
  },
  {
   "cell_type": "code",
   "execution_count": 52,
   "metadata": {
    "collapsed": false
   },
   "outputs": [],
   "source": [
    "# In\n",
    "# * Pitch Speed \n",
    "# * Spin Rate\n",
    "# * Spin Angle \n",
    "# * Position at plate (x,y,z)\n",
    "# * Pitch Handedness (R = 1, L = 0)\n",
    "# * Batter handedness (R = 1, L = 0)\n",
    "# * Pitch Type (#)\n",
    "# * Previous Pitch Type  (#)\n",
    "# * Decision point (time, x, y, z)\n",
    "\n",
    "# Out\n",
    "# * Pitch Result\n",
    "#     * In zone (1-9) \n",
    "#     * Out of zone (11-14)\n",
    "#     * In play out(s)\n",
    "#     * In play no out(s) & In play run(s)\n",
    "\n",
    "\n",
    "\n",
    "smaller_dat['pit_hand_cd'] = smaller_dat['pit_hand_cd'].replace(to_replace = ['L', 'R'], value = [0, 1])\n",
    "smaller_dat['bat_hand_cd'] = smaller_dat['bat_hand_cd'].replace(to_replace = ['L', 'R'], value = [0, 1])"
   ]
  },
  {
   "cell_type": "code",
   "execution_count": 61,
   "metadata": {
    "collapsed": false
   },
   "outputs": [
    {
     "name": "stdout",
     "output_type": "stream",
     "text": [
      "pitch_type\n",
      "CH     70258\n",
      "CU     58760\n",
      "FC     35969\n",
      "FF    255114\n",
      "FS      9740\n",
      "FT     72180\n",
      "SI     96804\n",
      "SL    105564\n",
      "dtype: int64\n"
     ]
    }
   ],
   "source": [
    "\n",
    "no_nans = smaller_dat.dropna()\n",
    "smaller_dat = no_nans\n",
    "pitches = np.sort(smaller_dat.pitch_type.unique())\n",
    "threshold = smaller_dat.groupby('pitch_type').size() > smaller_dat.groupby('pitch_type').size().sum() * 0.01\n",
    "\n",
    "sig_pitches = pitches[threshold]\n",
    "\n",
    "smallest_dat = smaller_dat[[pitch_type in sig_pitches for pitch_type in smaller_dat['pitch_type']]]\n",
    "smallest_dat['pitch_type'].unique()\n",
    "print(smallest_dat.groupby('pitch_type').size())"
   ]
  },
  {
   "cell_type": "code",
   "execution_count": 67,
   "metadata": {
    "collapsed": false
   },
   "outputs": [
    {
     "name": "stderr",
     "output_type": "stream",
     "text": [
      "/Users/jaxmichalski/miniconda3/envs/data100/lib/python3.6/site-packages/ipykernel/__main__.py:3: SettingWithCopyWarning: \n",
      "A value is trying to be set on a copy of a slice from a DataFrame.\n",
      "Try using .loc[row_indexer,col_indexer] = value instead\n",
      "\n",
      "See the caveats in the documentation: http://pandas.pydata.org/pandas-docs/stable/indexing.html#indexing-view-versus-copy\n",
      "  app.launch_new_instance()\n"
     ]
    }
   ],
   "source": [
    "smallest_dat['pitch_type'].unique()\n",
    "smallest_dat.columns\n",
    "smallest_dat['pitch_type'] = smallest_dat['pitch_type'].replace(to_replace = sig_pitches, value = np.linspace(0, len(sig_pitches) - 1, len(sig_pitches)))"
   ]
  },
  {
   "cell_type": "code",
   "execution_count": 82,
   "metadata": {
    "collapsed": false
   },
   "outputs": [],
   "source": [
    "results = []\n",
    "nums = np.linspace(0, len(sig_pitches) - 1, len(sig_pitches))\n",
    "\n",
    "for elem in smallest_dat['pitch_type_seq']:\n",
    "    sequence = elem.split('|')\n",
    "    if len(sequence) != 1:\n",
    "        pitch = sequence[-1]\n",
    "        previous = sequence[-2]\n",
    "        x = pitch == sig_pitches \n",
    "        y = previous == sig_pitches\n",
    "        results += [[nums[y], nums[x]]]\n",
    "    else:\n",
    "        pitch = sequence[-1]\n",
    "        x = pitch == sig_pitches \n",
    "        results += [[nums[x]]]"
   ]
  },
  {
   "cell_type": "code",
   "execution_count": 88,
   "metadata": {
    "collapsed": false
   },
   "outputs": [
    {
     "name": "stderr",
     "output_type": "stream",
     "text": [
      "/Users/jaxmichalski/miniconda3/envs/data100/lib/python3.6/site-packages/ipykernel/__main__.py:1: SettingWithCopyWarning: \n",
      "A value is trying to be set on a copy of a slice from a DataFrame.\n",
      "Try using .loc[row_indexer,col_indexer] = value instead\n",
      "\n",
      "See the caveats in the documentation: http://pandas.pydata.org/pandas-docs/stable/indexing.html#indexing-view-versus-copy\n",
      "  if __name__ == '__main__':\n"
     ]
    },
    {
     "data": {
      "text/plain": [
       "85355           [[3.0]]\n",
       "85356    [[3.0], [3.0]]\n",
       "85357    [[3.0], [0.0]]\n",
       "85358           [[3.0]]\n",
       "85359           [[3.0]]\n",
       "Name: pitch_sequence, dtype: object"
      ]
     },
     "execution_count": 88,
     "metadata": {},
     "output_type": "execute_result"
    }
   ],
   "source": [
    "smallest_dat['pitch_sequence'] = results\n",
    "smallest_dat['pitch_sequence'].head()"
   ]
  },
  {
   "cell_type": "code",
   "execution_count": 93,
   "metadata": {
    "collapsed": false
   },
   "outputs": [
    {
     "name": "stderr",
     "output_type": "stream",
     "text": [
      "/Users/jaxmichalski/miniconda3/envs/data100/lib/python3.6/site-packages/ipykernel/__main__.py:1: SettingWithCopyWarning: \n",
      "A value is trying to be set on a copy of a slice from a DataFrame.\n",
      "Try using .loc[row_indexer,col_indexer] = value instead\n",
      "\n",
      "See the caveats in the documentation: http://pandas.pydata.org/pandas-docs/stable/indexing.html#indexing-view-versus-copy\n",
      "  if __name__ == '__main__':\n"
     ]
    },
    {
     "data": {
      "text/plain": [
       "array(['Ball', 'Called Strike', 'In play, out(s)', 'Swinging Strike',\n",
       "       'In play, no out', 'In play, run(s)', 'Foul'], dtype=object)"
      ]
     },
     "execution_count": 93,
     "metadata": {},
     "output_type": "execute_result"
    }
   ],
   "source": [
    "smallest_dat['pitch_des'] = smallest_dat['pitch_des'].replace(to_replace = ['Foul Bunt', 'Foul (Runner Going)', 'Missed Bunt', 'Swinging Strike (Blocked)', 'Foul Tip', 'Ball In Dirt', 'Hit By Pitch'], value = ['Foul', 'Foul', 'Swinging Strike', 'Swinging Strike', 'Foul', 'Ball', 'Ball'])\n",
    "smallest_dat['pitch_des'].unique()\n",
    "\n"
   ]
  },
  {
   "cell_type": "code",
   "execution_count": 63,
   "metadata": {
    "collapsed": false
   },
   "outputs": [
    {
     "data": {
      "text/plain": [
       "[<matplotlib.lines.Line2D at 0x1154fce48>]"
      ]
     },
     "execution_count": 63,
     "metadata": {},
     "output_type": "execute_result"
    },
    {
     "data": {
      "image/png": "[encoded data removed]",
      "text/plain": [
       "<matplotlib.figure.Figure at 0x1a55f42a58>"
      ]
     },
     "metadata": {},
     "output_type": "display_data"
    }
   ],
   "source": [
    "speeds = smallest_dat.groupby('start_speed').size()\n",
    "plt.plot(speeds)"
   ]
  },
  {
   "cell_type": "code",
   "execution_count": 64,
   "metadata": {
    "collapsed": false
   },
   "outputs": [
    {
     "data": {
      "text/plain": [
       "<matplotlib.legend.Legend at 0x1a2f67e898>"
      ]
     },
     "execution_count": 64,
     "metadata": {},
     "output_type": "execute_result"
    },
    {
     "data": {
      "image/png": "[encoded data removed]",
      "text/plain": [
       "<matplotlib.figure.Figure at 0x1154ff518>"
      ]
     },
     "metadata": {},
     "output_type": "display_data"
    },
    {
     "data": {
      "image/png": "[encoded data removed]",
      "text/plain": [
       "<matplotlib.figure.Figure at 0x115507c50>"
      ]
     },
     "metadata": {},
     "output_type": "display_data"
    },
    {
     "data": {
      "image/png": "[encoded data removed]",
      "text/plain": [
       "<matplotlib.figure.Figure at 0x115545d30>"
      ]
     },
     "metadata": {},
     "output_type": "display_data"
    },
    {
     "data": {
      "image/png": "[encoded data removed]",
      "text/plain": [
       "<matplotlib.figure.Figure at 0x115565a20>"
      ]
     },
     "metadata": {},
     "output_type": "display_data"
    },
    {
     "data": {
      "image/png": "[encoded data removed]",
      "text/plain": [
       "<matplotlib.figure.Figure at 0x1a186a97f0>"
      ]
     },
     "metadata": {},
     "output_type": "display_data"
    },
    {
     "data": {
      "image/png": "[encoded data removed]",
      "text/plain": [
       "<matplotlib.figure.Figure at 0x1a186ac240>"
      ]
     },
     "metadata": {},
     "output_type": "display_data"
    },
    {
     "data": {
      "image/png": "[encoded data removed]",
      "text/plain": [
       "<matplotlib.figure.Figure at 0x1a186c9ef0>"
      ]
     },
     "metadata": {},
     "output_type": "display_data"
    },
    {
     "data": {
      "image/png": "[encoded data removed]",
      "text/plain": [
       "<matplotlib.figure.Figure at 0x1a186e8be0>"
      ]
     },
     "metadata": {},
     "output_type": "display_data"
    }
   ],
   "source": [
    "speed_by_type = smallest_dat.groupby(['pitch_type', 'start_speed']).size()\n",
    "for p_type in sig_pitches:\n",
    "    plt.figure()\n",
    "    plt.plot(speed_by_type[p_type], label = p_type)\n",
    "    plt.title(p_type)\n",
    "\n",
    "plt.legend()"
   ]
  },
  {
   "cell_type": "code",
   "execution_count": null,
   "metadata": {
    "collapsed": true
   },
   "outputs": [],
   "source": []
  }
 ],
 "metadata": {
  "anaconda-cloud": {},
  "kernelspec": {
   "display_name": "Python [data100]",
   "language": "python",
   "name": "Python [data100]"
  },
  "language_info": {
   "codemirror_mode": {
    "name": "ipython",
    "version": 3
   },
   "file_extension": ".py",
   "mimetype": "text/x-python",
   "name": "python",
   "nbconvert_exporter": "python",
   "pygments_lexer": "ipython3",
   "version": "3.6.4"
  }
 },
 "nbformat": 4,
 "nbformat_minor": 0
}
